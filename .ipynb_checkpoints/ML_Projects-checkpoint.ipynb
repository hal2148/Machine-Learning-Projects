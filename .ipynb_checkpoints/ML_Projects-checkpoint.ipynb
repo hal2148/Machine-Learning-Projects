{
 "cells": [
  {
   "cell_type": "markdown",
   "id": "c5b2af1c",
   "metadata": {},
   "source": [
    "## Hello!\n",
    "\n",
    "I'm Alex, and this repository contains three projects that I worked on as part of the Advanced Projects in Machine Learning course offered by the QMSS program at Columbia University. These projects are detailed in the sections below:"
   ]
  },
  {
   "cell_type": "markdown",
   "id": "97abdd08",
   "metadata": {},
   "source": [
    "## Project 1 - Predicting Country Happiness\n",
    "\n",
    "In this project, I used data from the UN's [World Happiness Report](https://worldhappiness.report/ed/2022/) to develop a model that predicted a country's average level of happiness based upon residents' respondents to survey questions about issues pertinent to their wellbeing, as well as other demographic factors. After exploring bivariate relationships and preprocessing data, I experimented with random forests, gradient boosting classifiers, support vector machines, and fully-connected neural networks in the model-building process.\n",
    "\n",
    "The full notebook can be accessed [here](https://github.com/hal2148/Machine-Learning-Projects/blob/main/World%20Happiness/world_happiness.ipynb)."
   ]
  },
  {
   "cell_type": "markdown",
   "id": "52200874",
   "metadata": {},
   "source": [
    "## Project 2 - Predicting COVID Infections from Chest X-Ray data\n",
    "\n",
    "In this project, I used a dataset from this 2020 [paper](https://arxiv.org/abs/2003.13145) by Chowdhury et al. to develop models which could predict whether an individual had COVID-19 based upon X-Ray images of their chest. The dataset contains 15,153 labeled X-ray images in total - 3,616 of patients with COVID-19, 10,192 of patients with 'normal' health, and 1,345 of patients with pneumonia. After visualizing the data, I experimented with fully-connected neural networks, convolutional neural networks, and transfer learning models (ResNet, VGG16, Inception), and was ultimately able to build a model which correctly classified 93.7% of held-out test data.\n",
    "\n",
    "The full notebook can be accessed [here](https://github.com/hal2148/Machine-Learning-Projects/blob/main/Covid%20Xray/covid_xray.ipynb)."
   ]
  },
  {
   "cell_type": "markdown",
   "id": "2ca3b195",
   "metadata": {},
   "source": [
    "## Project 3 - Predicting Overall Sentiment from Review Excerpts\n",
    "\n",
    "In this project, I used the Stanford SST sentiment dataset to develop models which could predict the overall sentiment of a movie review based upon an excerpt of said review. The dataset consists of labeled moview reviews, each of them assigned either a 'positive' or 'negative' overall sentiment. I worked with LSTMs and Conv1D models for this project, and also experimented with the use of glove embeddings, bidirectional and stacked layers, as well as dropouts. I was ultimately able to build a model which accurately predicted 79.8% of held out test data.\n",
    "\n",
    "The full notebook can be accessed [here](https://github.com/hal2148/Machine-Learning-Projects/blob/main/Sentiment%20Analysis/sst_movie_sentiment.ipynb)."
   ]
  }
 ],
 "metadata": {
  "kernelspec": {
   "display_name": "Python 3 (ipykernel)",
   "language": "python",
   "name": "python3"
  },
  "language_info": {
   "codemirror_mode": {
    "name": "ipython",
    "version": 3
   },
   "file_extension": ".py",
   "mimetype": "text/x-python",
   "name": "python",
   "nbconvert_exporter": "python",
   "pygments_lexer": "ipython3",
   "version": "3.9.12"
  }
 },
 "nbformat": 4,
 "nbformat_minor": 5
}
